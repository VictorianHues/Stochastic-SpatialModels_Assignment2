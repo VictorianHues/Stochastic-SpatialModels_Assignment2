{
 "cells": [
  {
   "cell_type": "markdown",
   "metadata": {},
   "source": [
    "# Assignment 2\n",
    "## Stochastic and Spatial Models\n",
    "---\n",
    "Peterson, Victoria J  \n",
    "*ID: 15476758* \n",
    "\n",
    "Beumer, Wessel T L\n",
    "*ID: 12640662*\n",
    "\n",
    "University of Amsterdam  \n",
    "*Introduction to Computational Science, Block 1, 2024*  \n",
    "\n",
    "Due: 27 October 2024\n"
   ]
  },
  {
   "cell_type": "code",
   "execution_count": null,
   "metadata": {},
   "outputs": [],
   "source": []
  }
 ],
 "metadata": {
  "kernelspec": {
   "display_name": "Julia 1.10.5",
   "language": "julia",
   "name": "julia-1.10"
  },
  "language_info": {
   "file_extension": ".jl",
   "mimetype": "application/julia",
   "name": "julia",
   "version": "1.10.5"
  }
 },
 "nbformat": 4,
 "nbformat_minor": 4
}
